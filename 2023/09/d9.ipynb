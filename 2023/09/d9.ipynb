{
 "cells": [
  {
   "cell_type": "markdown",
   "id": "334fe916-b314-47cd-bd3e-0f9d269e4e22",
   "metadata": {},
   "source": [
    "# Advent of Code Day 9\n",
    "<https://adventofcode.com/2023/day/9>\n",
    "<https://docs.python.org/3/>"
   ]
  },
  {
   "cell_type": "code",
   "execution_count": 122,
   "id": "ff2193f7-7dae-4840-955f-3fc378a4c2f5",
   "metadata": {},
   "outputs": [],
   "source": [
    "import numpy as np\n",
    "\n",
    "# input = \"demo.txt\"\n",
    "input = \"input.txt\"\n",
    "\n",
    "data = np.loadtxt(input, dtype=int)"
   ]
  },
  {
   "cell_type": "code",
   "execution_count": 123,
   "id": "a34cd77e-4ace-462e-b9e8-9a64ff027028",
   "metadata": {},
   "outputs": [
    {
     "name": "stdout",
     "output_type": "stream",
     "text": [
      "-- Total parte A:\t 1938800261\n",
      "-- Total parte B:\t 1112\n"
     ]
    }
   ],
   "source": [
    "totalA = []\n",
    "totalB = []\n",
    "for linha in data:\n",
    "    ld = []\n",
    "    sd = []\n",
    "    ld.append(linha[-1])\n",
    "    sd.append(linha[0])\n",
    "    t = linha[:]\n",
    "    while True:\n",
    "        t = np.diff(t)\n",
    "        ld.append(t[-1])\n",
    "        sd.append(t[0])\n",
    "        if not t.any():\n",
    "            break\n",
    "    sd2 = sd[:]\n",
    "    for i in range(len(sd) - 2, -1, -1):\n",
    "        sd2[i] = sd[i] - sd2[i + 1]\n",
    "    totalA.append(sum(ld))\n",
    "    totalB.append(sd2[0])\n",
    "print(\"-- Total parte A:\\t\", sum(totalA))\n",
    "print(\"-- Total parte B:\\t\", sum(totalB))\n"
   ]
  }
 ],
 "metadata": {
  "kernelspec": {
   "display_name": "Python 3 (ipykernel)",
   "language": "python",
   "name": "python3"
  },
  "language_info": {
   "codemirror_mode": {
    "name": "ipython",
    "version": 3
   },
   "file_extension": ".py",
   "mimetype": "text/x-python",
   "name": "python",
   "nbconvert_exporter": "python",
   "pygments_lexer": "ipython3",
   "version": "3.11.6"
  }
 },
 "nbformat": 4,
 "nbformat_minor": 5
}
