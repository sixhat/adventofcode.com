{
 "cells": [
  {
   "cell_type": "markdown",
   "id": "334fe916-b314-47cd-bd3e-0f9d269e4e22",
   "metadata": {},
   "source": [
    "# Advent of Code Day 9\n",
    "<https://adventofcode.com/2023/day/9>\n",
    "<https://docs.python.org/3/>"
   ]
  },
  {
   "cell_type": "code",
   "execution_count": 81,
   "id": "ff2193f7-7dae-4840-955f-3fc378a4c2f5",
   "metadata": {},
   "outputs": [],
   "source": [
    "import numpy as np\n",
    "# input = \"demo.txt\"\n",
    "input = \"input.txt\"\n",
    "\n",
    "data = np.loadtxt(input, dtype=int)"
   ]
  },
  {
   "cell_type": "code",
   "execution_count": 82,
   "id": "a34cd77e-4ace-462e-b9e8-9a64ff027028",
   "metadata": {},
   "outputs": [
    {
     "name": "stdout",
     "output_type": "stream",
     "text": [
      "-- Total parte A:\t 1938800261\n"
     ]
    }
   ],
   "source": [
    "total = []\n",
    "for l in data:\n",
    "    ld = []\n",
    "    ld.append(l[-1])\n",
    "    t = l[:]\n",
    "    while True:\n",
    "        t = np.diff(t)\n",
    "        ld.append(t[-1])\n",
    "        if not t.any():\n",
    "            break\n",
    "    total.append(sum(ld))        \n",
    "print(\"-- Total parte A:\\t\", sum(total))"
   ]
  },
  {
   "cell_type": "code",
   "execution_count": 57,
   "id": "b1819451-1e69-4fac-bd7d-fdb644f33317",
   "metadata": {},
   "outputs": [
    {
     "name": "stdout",
     "output_type": "stream",
     "text": [
      "-- Total parte B:\t 0\n"
     ]
    }
   ],
   "source": [
    "total =0\n",
    "print(\"-- Total parte B:\\t\", total)"
   ]
  }
 ],
 "metadata": {
  "kernelspec": {
   "display_name": "Python 3 (ipykernel)",
   "language": "python",
   "name": "python3"
  },
  "language_info": {
   "codemirror_mode": {
    "name": "ipython",
    "version": 3
   },
   "file_extension": ".py",
   "mimetype": "text/x-python",
   "name": "python",
   "nbconvert_exporter": "python",
   "pygments_lexer": "ipython3",
   "version": "3.11.6"
  }
 },
 "nbformat": 4,
 "nbformat_minor": 5
}
