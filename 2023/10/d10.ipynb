{
 "cells": [
  {
   "cell_type": "code",
   "execution_count": 399,
   "id": "6a12bcc3-c489-43ff-a183-77e34c09ed51",
   "metadata": {},
   "outputs": [],
   "source": [
    "# Load data and libraries\n",
    "import numpy as np\n",
    "\n",
    "# input = \"demo2.txt\"\n",
    "input = \"input.txt\"\n",
    "\n",
    "data = open(f\"{input}\", \"r\").read().strip().split(\"\\n\")\n",
    "data[:] = [list(e) for e in data]\n",
    "tamanho = (len(data), len(data[0]))"
   ]
  },
  {
   "cell_type": "code",
   "execution_count": 400,
   "id": "ac4f1f07-dd66-40cf-a423-02311f1eebc3",
   "metadata": {},
   "outputs": [],
   "source": [
    "# Set dictionaries for navigation\n",
    "dic = {\n",
    "    \"F\": [(0, 1), (1, 0)],\n",
    "    \"J\": [(0, -1), (-1, 0)],\n",
    "    \"|\": [(-1, 0), (1, 0)],\n",
    "    \"-\": [(0, -1), (0, 1)],\n",
    "    \"L\": [(-1, 0), (0, 1)],\n",
    "    \"7\": [(0, -1), (1, 0)],\n",
    "}\n",
    "\n",
    "# 0 up 1 down 2 left 3 right\n",
    "dirs = np.array([(-1, 0), (1, 0), (0, -1), (0, 1)])"
   ]
  },
  {
   "cell_type": "code",
   "execution_count": 401,
   "id": "ca99a024-1c04-4eec-b5bd-72da3a24e005",
   "metadata": {},
   "outputs": [
    {
     "name": "stdout",
     "output_type": "stream",
     "text": [
      "[120 110]\n"
     ]
    }
   ],
   "source": [
    "# Find starting position of S\n",
    "def find_s():\n",
    "    for y, linha in enumerate(data):\n",
    "        for x, elemento in enumerate(linha):\n",
    "            if elemento == \"S\":\n",
    "                return (y, x)\n",
    "                break\n",
    "\n",
    "\n",
    "start_pos = np.array(find_s())\n",
    "print(start_pos)"
   ]
  },
  {
   "cell_type": "code",
   "execution_count": 402,
   "id": "43396822",
   "metadata": {},
   "outputs": [
    {
     "name": "stdout",
     "output_type": "stream",
     "text": [
      "[0, 1]\n"
     ]
    }
   ],
   "source": [
    "# find possible directions for S\n",
    "can_go = []\n",
    "for e, dir in enumerate(dirs):\n",
    "    _p = start_pos + dir\n",
    "    el = data[_p[0]][_p[1]]\n",
    "    # print(e,el)\n",
    "\n",
    "    if e == 0 and el in \"7|F\":\n",
    "        can_go.append(e)\n",
    "    if e == 1 and el in \"L|J\":\n",
    "        can_go.append(e)\n",
    "    if e == 2 and el in \"-LF\":\n",
    "        can_go.append(e)\n",
    "    if e == 3 and el in \"-J7\":\n",
    "        can_go.append(e)\n",
    "\n",
    "print(can_go)"
   ]
  },
  {
   "cell_type": "code",
   "execution_count": 403,
   "id": "1c8921a1-3306-44be-8719-5a5fdedc935a",
   "metadata": {},
   "outputs": [
    {
     "name": "stdout",
     "output_type": "stream",
     "text": [
      "-- Part A:\t 6870\n"
     ]
    }
   ],
   "source": [
    "# part A\n",
    "m = -np.ones(tamanho, dtype=np.int16)\n",
    "m[*start_pos] = 0\n",
    "pA = start_pos\n",
    "pB = start_pos\n",
    "cA = start_pos + dirs[can_go[0]]\n",
    "cB = start_pos + dirs[can_go[1]]\n",
    "pathA = [start_pos]\n",
    "pathB = [start_pos]\n",
    "\n",
    "while True:\n",
    "    m[*cA] = m[*pA] + 1\n",
    "    m[*cB] = m[*pB] + 1\n",
    "    pA = cA\n",
    "    pB = cB\n",
    "\n",
    "    pathA.append(cA)\n",
    "    pathB.append(cB)\n",
    "\n",
    "    mA = dic[data[cA[0]][cA[1]]]\n",
    "    mB = dic[data[cB[0]][cB[1]]]\n",
    "\n",
    "    tmA = cA + mA[0]\n",
    "    cA = cA + mA[0] if m[*tmA] == -1 else cA + mA[1]\n",
    "    tmB = cB + mB[0]\n",
    "    cB = cB + mB[0] if m[*tmB] == -1 else cB + mB[1]\n",
    "\n",
    "    \n",
    "    if m[*cA] != -1:\n",
    "        break\n",
    "# print(m)\n",
    "\n",
    "np.savetxt(\"out.txt\", m, fmt=\"%d\")\n",
    "# print(m[*cA], m[*cB])\n",
    "print(\"-- Part A:\\t\", m[*cA] + 1)"
   ]
  },
  {
   "cell_type": "code",
   "execution_count": 404,
   "metadata": {},
   "outputs": [],
   "source": [
    "# part B (make a full path, mark lefts or right, diffusion)\n",
    "rpathB=list(reversed(pathB))\n",
    "full_path = pathA[:-1] + rpathB"
   ]
  },
  {
   "cell_type": "code",
   "execution_count": 405,
   "id": "051241bf",
   "metadata": {},
   "outputs": [],
   "source": [
    "## mark lefts \n",
    "for i in range(1,len(full_path)):\n",
    "    o = full_path[i-1]\n",
    "    d = full_path[i]\n",
    "    # m[*d] = i-1\n",
    "    v = d-o\n",
    "    # print(o,d,v)\n",
    "    if (v==np.array([-1, 0])).all():\n",
    "        try:\n",
    "            # print(o)\n",
    "            oo = o + (0,-1)\n",
    "            do = d + (0,-1)\n",
    "            if m[*oo] == -1:\n",
    "                m[*oo] = -2\n",
    "            if m[*do] == -1:\n",
    "                m[*do] = -2\n",
    "        except:\n",
    "            pass\n",
    "    if (v==np.array([1, 0])).all():\n",
    "        try:\n",
    "            # print(o)\n",
    "            oo = o + (0,1)\n",
    "            do = d + (0,1)\n",
    "            if m[*oo] == -1:\n",
    "                m[*oo] = -2\n",
    "            if m[*do] == -1:\n",
    "                m[*do] = -2\n",
    "        except:\n",
    "            pass\n",
    "    if (v==np.array([0, 1])).all():\n",
    "        try:\n",
    "            # print(o)\n",
    "            oo = o + (-1,0)\n",
    "            do = d + (-1,0)\n",
    "            if m[*oo] == -1:\n",
    "                m[*oo] = -2\n",
    "            if m[*do] == -1:\n",
    "                m[*do] = -2\n",
    "        except:\n",
    "            pass\n",
    "    if (v==np.array([0, -1])).all():\n",
    "        try:\n",
    "            # print(o)\n",
    "            oo = o + (1,0)\n",
    "            do = d + (1,0)\n",
    "            if m[*oo] == -1:\n",
    "                m[*oo] = -2\n",
    "            if m[*do] == -1:\n",
    "                m[*do] = -2\n",
    "        except:\n",
    "            pass\n",
    "# print(m)\n",
    "\n",
    "\n",
    "np.savetxt(\"out2.txt\", m, fmt=\"%d\")\n"
   ]
  },
  {
   "cell_type": "code",
   "execution_count": 406,
   "id": "fb7db02a",
   "metadata": {},
   "outputs": [],
   "source": [
    "# Difuse -2 \n",
    "\n",
    "def difuse(pos):\n",
    "    for d in [(-1,0), (1,0), (0,-1), (0,1)]:\n",
    "        try:\n",
    "            oo = pos +d\n",
    "            if m[*oo] == -1:\n",
    "                m[*oo] = -2\n",
    "        except:\n",
    "            # print(\"H\", oo)\n",
    "            pass\n"
   ]
  },
  {
   "cell_type": "code",
   "execution_count": 407,
   "id": "57b42306",
   "metadata": {},
   "outputs": [
    {
     "name": "stdout",
     "output_type": "stream",
     "text": [
      "-- Parte B:\t 287\n"
     ]
    }
   ],
   "source": [
    "m2 = np.where(m==-2)\n",
    "q2 = len(m2[0])\n",
    "\n",
    "for ll in range(10):\n",
    "    for i,v in enumerate(m2[0]):\n",
    "        p = np.array((v, m2[1][i]))\n",
    "        # p = np.array((m2[0][0], m2[1][0]))\n",
    "        # print(p)\n",
    "        difuse(p)\n",
    "    m2 = np.where(m==-2)\n",
    "    q3 = len(m2[0])\n",
    "\n",
    "print(\"-- Parte B:\\t\", np.sum(m==-2))\n",
    "np.savetxt(\"out3.txt\", m, fmt=\"%d\")    \n"
   ]
  },
  {
   "cell_type": "code",
   "execution_count": null,
   "id": "f6ed9969",
   "metadata": {},
   "outputs": [],
   "source": []
  }
 ],
 "metadata": {
  "kernelspec": {
   "display_name": "Python 3 (ipykernel)",
   "language": "python",
   "name": "python3"
  },
  "language_info": {
   "codemirror_mode": {
    "name": "ipython",
    "version": 3
   },
   "file_extension": ".py",
   "mimetype": "text/x-python",
   "name": "python",
   "nbconvert_exporter": "python",
   "pygments_lexer": "ipython3",
   "version": "3.11.6"
  }
 },
 "nbformat": 4,
 "nbformat_minor": 5
}
