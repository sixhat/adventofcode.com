{
 "cells": [
  {
   "cell_type": "code",
   "execution_count": 496,
   "metadata": {},
   "outputs": [],
   "source": [
    "# Load data and libraries\n",
    "import numpy as np\n",
    "\n",
    "# input = \"demo.txt\"\n",
    "input = \"input.txt\"\n",
    "\n",
    "fulltxt = open(f\"{input}\", \"r\").read().strip()\n",
    "universe = fulltxt.split(\"\\n\")\n",
    "universe[:] = [list(e) for e in universe]\n",
    "\n",
    "universe_size = (len(universe), len(universe[0]))\n",
    "\n",
    "expansion_factor = 1_000_000\n",
    "## partA - Compute Minkowski distances order 1 (cityblock) (https://en.wikipedia.org/wiki/Minkowski_distance) with expansion_factor = 2\n",
    "## partB - repeat with expansion_factor = 1_000_000\n"
   ]
  },
  {
   "cell_type": "code",
   "execution_count": 497,
   "metadata": {},
   "outputs": [],
   "source": [
    "## Create numpy array and index empty rows,cols\n",
    "nd = fulltxt.replace(\".\", \"0 \").replace(\"#\", \"1 \").replace(\"\\n\", \"\").strip()\n",
    "universe = np.fromstring(nd, sep=\" \").reshape(universe_size)\n",
    "\n",
    "empty_rows = np.sum(universe, axis=(1))\n",
    "empty_cols = np.sum(universe, axis=(0))\n",
    "\n",
    "indx_row = [x[0] for x in np.argwhere(empty_rows == 0)]\n",
    "indx_col = [x[0] for x in np.argwhere(empty_cols == 0)]\n"
   ]
  },
  {
   "cell_type": "code",
   "execution_count": 498,
   "metadata": {},
   "outputs": [],
   "source": [
    "## Get galaxies (1s) positions\n",
    "galaxies = np.argwhere(universe == 1).tolist()\n"
   ]
  },
  {
   "cell_type": "code",
   "execution_count": 499,
   "metadata": {},
   "outputs": [],
   "source": [
    "## Calculate Cityblock distance\n",
    "from scipy.spatial.distance import cdist\n",
    "\n",
    "dists = cdist(galaxies, galaxies, metric=\"cityblock\")\n"
   ]
  },
  {
   "cell_type": "code",
   "execution_count": 500,
   "metadata": {},
   "outputs": [],
   "source": [
    "## calc lower triangle of distances\n",
    "dists = dists * np.tri(dists.shape[0], dists.shape[1])\n"
   ]
  },
  {
   "cell_type": "code",
   "execution_count": 501,
   "metadata": {},
   "outputs": [],
   "source": [
    "## For existing distances compute extra distance due to expansion\n",
    "## order is (row,col)\n",
    "for row in range(len(galaxies)):\n",
    "    for col in range(row):\n",
    "        a = galaxies[col]\n",
    "        b = galaxies[row]\n",
    "\n",
    "        delta1 = abs(a[0] - b[0])\n",
    "        delta2 = abs(a[1] - b[1])\n",
    "\n",
    "        ct_row = 0\n",
    "        mia = min(a[0], b[0])\n",
    "        mxa = max(a[0], b[0])\n",
    "        for c in indx_row:\n",
    "            if mia < c < mxa:\n",
    "                ct_row += 1\n",
    "\n",
    "        ct_col = 0\n",
    "        mia = min(a[1], b[1])\n",
    "        mxa = max(a[1], b[1])\n",
    "        for c in indx_col:\n",
    "            if mia < c < mxa:\n",
    "                ct_col += 1\n",
    "\n",
    "        dists[row, col] = (\n",
    "            dists[row, col]\n",
    "            + (ct_row * expansion_factor - ct_row)\n",
    "            + (ct_col * expansion_factor - ct_col)\n",
    "        )\n"
   ]
  },
  {
   "cell_type": "code",
   "execution_count": 502,
   "metadata": {},
   "outputs": [
    {
     "name": "stdout",
     "output_type": "stream",
     "text": [
      "790194712336\n"
     ]
    }
   ],
   "source": [
    "print(int(sum(sum(dists))))\n"
   ]
  }
 ],
 "metadata": {
  "kernelspec": {
   "display_name": "Python 3",
   "language": "python",
   "name": "python3"
  },
  "language_info": {
   "codemirror_mode": {
    "name": "ipython",
    "version": 3
   },
   "file_extension": ".py",
   "mimetype": "text/x-python",
   "name": "python",
   "nbconvert_exporter": "python",
   "pygments_lexer": "ipython3",
   "version": "3.11.6"
  }
 },
 "nbformat": 4,
 "nbformat_minor": 2
}
